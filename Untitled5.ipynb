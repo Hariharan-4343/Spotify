{
 "cells": [
  {
   "cell_type": "code",
   "execution_count": 1,
   "id": "14999c14-dea4-4f24-8f29-246b09f4dd99",
   "metadata": {},
   "outputs": [],
   "source": [
    "import pandas as pd "
   ]
  },
  {
   "cell_type": "code",
   "execution_count": 2,
   "id": "4f55cfec-eb81-496d-9ee2-8c275852e587",
   "metadata": {},
   "outputs": [
    {
     "data": {
      "text/html": [
       "<div>\n",
       "<style scoped>\n",
       "    .dataframe tbody tr th:only-of-type {\n",
       "        vertical-align: middle;\n",
       "    }\n",
       "\n",
       "    .dataframe tbody tr th {\n",
       "        vertical-align: top;\n",
       "    }\n",
       "\n",
       "    .dataframe thead th {\n",
       "        text-align: right;\n",
       "    }\n",
       "</style>\n",
       "<table border=\"1\" class=\"dataframe\">\n",
       "  <thead>\n",
       "    <tr style=\"text-align: right;\">\n",
       "      <th></th>\n",
       "      <th>id</th>\n",
       "      <th>name</th>\n",
       "      <th>genre</th>\n",
       "      <th>artists</th>\n",
       "      <th>album</th>\n",
       "      <th>popularity</th>\n",
       "      <th>duration_ms</th>\n",
       "      <th>explicit</th>\n",
       "    </tr>\n",
       "  </thead>\n",
       "  <tbody>\n",
       "    <tr>\n",
       "      <th>0</th>\n",
       "      <td>7kr3xZk4yb3YSZ4VFtg2Qt</td>\n",
       "      <td>Acoustic</td>\n",
       "      <td>acoustic</td>\n",
       "      <td>Billy Raffoul</td>\n",
       "      <td>1975</td>\n",
       "      <td>58</td>\n",
       "      <td>172199</td>\n",
       "      <td>False</td>\n",
       "    </tr>\n",
       "    <tr>\n",
       "      <th>1</th>\n",
       "      <td>1kJygfS4eoVziBBI93MSYp</td>\n",
       "      <td>Acoustic</td>\n",
       "      <td>acoustic</td>\n",
       "      <td>Billy Raffoul</td>\n",
       "      <td>A Few More Hours at YYZ</td>\n",
       "      <td>57</td>\n",
       "      <td>172202</td>\n",
       "      <td>False</td>\n",
       "    </tr>\n",
       "    <tr>\n",
       "      <th>2</th>\n",
       "      <td>6lynns69p4zTCRxmmiSY1x</td>\n",
       "      <td>Here Comes the Sun - Acoustic</td>\n",
       "      <td>acoustic</td>\n",
       "      <td>Molly Hocking, Bailey Rushlow</td>\n",
       "      <td>Here Comes the Sun (Acoustic)</td>\n",
       "      <td>42</td>\n",
       "      <td>144786</td>\n",
       "      <td>False</td>\n",
       "    </tr>\n",
       "    <tr>\n",
       "      <th>3</th>\n",
       "      <td>1RC9slv335IfLce5vt9KTW</td>\n",
       "      <td>Acoustic #3</td>\n",
       "      <td>acoustic</td>\n",
       "      <td>The Goo Goo Dolls</td>\n",
       "      <td>Dizzy up the Girl</td>\n",
       "      <td>46</td>\n",
       "      <td>116573</td>\n",
       "      <td>False</td>\n",
       "    </tr>\n",
       "    <tr>\n",
       "      <th>4</th>\n",
       "      <td>5o9L8xBuILoVjLECSBi7Vo</td>\n",
       "      <td>My Love Mine All Mine - Acoustic Instrumental</td>\n",
       "      <td>acoustic</td>\n",
       "      <td>Guus Dielissen, Casper Esmann</td>\n",
       "      <td>My Love Mine All Mine (Acoustic Instrumental)</td>\n",
       "      <td>33</td>\n",
       "      <td>133922</td>\n",
       "      <td>False</td>\n",
       "    </tr>\n",
       "  </tbody>\n",
       "</table>\n",
       "</div>"
      ],
      "text/plain": [
       "                       id                                           name  \\\n",
       "0  7kr3xZk4yb3YSZ4VFtg2Qt                                       Acoustic   \n",
       "1  1kJygfS4eoVziBBI93MSYp                                       Acoustic   \n",
       "2  6lynns69p4zTCRxmmiSY1x                  Here Comes the Sun - Acoustic   \n",
       "3  1RC9slv335IfLce5vt9KTW                                    Acoustic #3   \n",
       "4  5o9L8xBuILoVjLECSBi7Vo  My Love Mine All Mine - Acoustic Instrumental   \n",
       "\n",
       "      genre                        artists  \\\n",
       "0  acoustic                  Billy Raffoul   \n",
       "1  acoustic                  Billy Raffoul   \n",
       "2  acoustic  Molly Hocking, Bailey Rushlow   \n",
       "3  acoustic              The Goo Goo Dolls   \n",
       "4  acoustic  Guus Dielissen, Casper Esmann   \n",
       "\n",
       "                                           album  popularity  duration_ms  \\\n",
       "0                                           1975          58       172199   \n",
       "1                        A Few More Hours at YYZ          57       172202   \n",
       "2                  Here Comes the Sun (Acoustic)          42       144786   \n",
       "3                              Dizzy up the Girl          46       116573   \n",
       "4  My Love Mine All Mine (Acoustic Instrumental)          33       133922   \n",
       "\n",
       "   explicit  \n",
       "0     False  \n",
       "1     False  \n",
       "2     False  \n",
       "3     False  \n",
       "4     False  "
      ]
     },
     "execution_count": 2,
     "metadata": {},
     "output_type": "execute_result"
    }
   ],
   "source": [
    "data1 = pd.read_csv('/Users/hariharananirudhan/Downloads/spotify_tracks.csv')\n",
    "data1.head()"
   ]
  },
  {
   "cell_type": "code",
   "execution_count": 3,
   "id": "247faea5-30a6-4859-bc71-e2aed178ea6f",
   "metadata": {},
   "outputs": [
    {
     "name": "stdout",
     "output_type": "stream",
     "text": [
      "        popularity   duration_ms\n",
      "count  6300.000000  6.300000e+03\n",
      "mean     30.754762  2.028477e+05\n",
      "std      19.948991  1.210299e+05\n",
      "min       0.000000  3.006000e+04\n",
      "25%      16.000000  1.476870e+05\n",
      "50%      29.000000  1.916070e+05\n",
      "75%      45.000000  2.369625e+05\n",
      "max      90.000000  3.601658e+06\n"
     ]
    }
   ],
   "source": [
    "print (data1.describe())"
   ]
  },
  {
   "cell_type": "code",
   "execution_count": 4,
   "id": "1b814959-8b2f-478a-b8a7-32636bb8b041",
   "metadata": {},
   "outputs": [
    {
     "name": "stdout",
     "output_type": "stream",
     "text": [
      "(6300, 8)\n"
     ]
    }
   ],
   "source": [
    "print (data1.shape)"
   ]
  },
  {
   "cell_type": "code",
   "execution_count": 5,
   "id": "da34b365-d338-4a01-9ca7-aad469d52447",
   "metadata": {},
   "outputs": [
    {
     "name": "stdout",
     "output_type": "stream",
     "text": [
      "id             object\n",
      "name           object\n",
      "genre          object\n",
      "artists        object\n",
      "album          object\n",
      "popularity      int64\n",
      "duration_ms     int64\n",
      "explicit         bool\n",
      "dtype: object\n"
     ]
    }
   ],
   "source": [
    "print(data1.dtypes)"
   ]
  },
  {
   "cell_type": "code",
   "execution_count": 6,
   "id": "1ce4194c-5398-45d8-a354-a132ecaf50b9",
   "metadata": {},
   "outputs": [
    {
     "name": "stdout",
     "output_type": "stream",
     "text": [
      "Series([], dtype: int64)\n"
     ]
    }
   ],
   "source": [
    "missing_values = data1.isnull() .sum ()\n",
    "print(missing_values[missing_values >0])\n"
   ]
  },
  {
   "cell_type": "code",
   "execution_count": 15,
   "id": "862ed5d5-1cc9-4d98-9536-1431a5ad5688",
   "metadata": {},
   "outputs": [
    {
     "name": "stdout",
     "output_type": "stream",
     "text": [
      "\n",
      "Q4: Unique values in the 'genre' column:\n",
      "['acoustic' 'afrobeat' 'alt-rock' 'alternative' 'ambient' 'anime'\n",
      " 'black-metal' 'bluegrass' 'blues' 'bossanova' 'brazil' 'breakbeat'\n",
      " 'british' 'cantopop' 'chicago-house' 'children' 'chill' 'classical'\n",
      " 'club' 'comedy' 'country' 'dance' 'dancehall' 'death-metal' 'deep-house'\n",
      " 'detroit-techno' 'disco' 'disney' 'drum-and-bass' 'dub' 'dubstep' 'edm'\n",
      " 'electro' 'electronic' 'emo' 'folk' 'forro' 'french' 'funk' 'garage'\n",
      " 'german' 'gospel' 'goth' 'grindcore' 'groove' 'grunge' 'guitar' 'happy'\n",
      " 'hard-rock' 'hardcore' 'hardstyle' 'heavy-metal' 'hip-hop' 'holidays'\n",
      " 'honky-tonk' 'house' 'idm' 'indian' 'indie' 'indie-pop' 'industrial'\n",
      " 'iranian' 'j-dance' 'j-idol' 'j-pop' 'j-rock' 'jazz' 'k-pop' 'kids'\n",
      " 'latin' 'latino' 'malay' 'mandopop' 'metal' 'metal-misc' 'metalcore'\n",
      " 'minimal-techno' 'movies' 'mpb' 'new-age' 'new-release' 'opera' 'pagode'\n",
      " 'party' 'philippines-opm' 'piano' 'pop' 'pop-film' 'post-dubstep'\n",
      " 'power-pop' 'progressive-house' 'psych-rock' 'punk' 'punk-rock' 'r-n-b'\n",
      " 'rainy-day' 'reggae' 'reggaeton' 'road-trip' 'rock' 'rock-n-roll'\n",
      " 'rockabilly' 'romance' 'sad' 'salsa' 'samba' 'sertanejo' 'show-tunes'\n",
      " 'singer-songwriter' 'ska' 'sleep' 'songwriter' 'soul' 'soundtracks'\n",
      " 'spanish' 'study' 'summer' 'swedish' 'synth-pop' 'tango' 'techno'\n",
      " 'trance' 'trip-hop' 'turkish' 'work-out' 'world-music']\n",
      "Number of unique values: 126\n"
     ]
    }
   ],
   "source": [
    "unique_values = data1['genre'].unique()\n",
    "print(\"\\nQ4: Unique values in the 'genre' column:\")\n",
    "print(unique_values)\n",
    "print(\"Number of unique values:\", len(unique_values))"
   ]
  },
  {
   "cell_type": "code",
   "execution_count": 13,
   "id": "8cd6a5b8-6666-4984-b8c7-ee95c9572d45",
   "metadata": {},
   "outputs": [
    {
     "name": "stdout",
     "output_type": "stream",
     "text": [
      "\n",
      "Q5: Mean, median, and standard deviation of the 'popularity' column:\n",
      "Mean: 30.754761904761907\n",
      "Median: 29.0\n",
      "Standard Deviation: 19.94899078235046\n"
     ]
    }
   ],
   "source": [
    "mean_popularity = data1['popularity'].mean()\n",
    "median_popularity = data1['popularity'].median()\n",
    "std_popularity = data1['popularity'].std()\n",
    "print(\"\\nQ5: Mean, median, and standard deviation of the 'popularity' column:\")\n",
    "print(\"Mean:\", mean_popularity)\n",
    "print(\"Median:\", median_popularity)\n",
    "print(\"Standard Deviation:\", std_popularity)"
   ]
  },
  {
   "cell_type": "code",
   "execution_count": 19,
   "id": "966271a8-80c1-43e7-b039-20737e959946",
   "metadata": {},
   "outputs": [
    {
     "name": "stdout",
     "output_type": "stream",
     "text": [
      "Number of outliers in 'duration_ms': 236\n"
     ]
    }
   ],
   "source": [
    "Q1 = data1['duration_ms'].quantile(0.25)\n",
    "Q3 = data1['duration_ms'].quantile(0.75)\n",
    "IQR = Q3 - Q1\n",
    "lower_bound = Q1 - 1.5 * IQR\n",
    "upper_bound = Q3 + 1.5 * IQR\n",
    "outliers = data1[(data1['duration_ms'] < lower_bound) | (data1['duration_ms'] > upper_bound)]\n",
    "print(f\"Number of outliers in 'duration_ms': {outliers.shape[0]}\")"
   ]
  },
  {
   "cell_type": "code",
   "execution_count": 22,
   "id": "0d944e46-3e85-45cd-b65a-c317becde914",
   "metadata": {},
   "outputs": [
    {
     "name": "stdout",
     "output_type": "stream",
     "text": [
      "Correlation between numerical columns:\n",
      "             popularity  duration_ms\n",
      "popularity     1.000000     0.023051\n",
      "duration_ms    0.023051     1.000000\n"
     ]
    }
   ],
   "source": [
    "correlation = data1[['popularity', 'duration_ms']].corr()\n",
    "print(\"Correlation between numerical columns:\")\n",
    "print(correlation)"
   ]
  },
  {
   "cell_type": "code",
   "execution_count": 24,
   "id": "b8b963e3-81d8-4a0d-af96-777f10d98427",
   "metadata": {},
   "outputs": [
    {
     "name": "stdout",
     "output_type": "stream",
     "text": [
      "Grouped by genre with aggregate statistics for 'popularity':\n",
      "         genre   mean   sum\n",
      "0     acoustic  26.28  1314\n",
      "1     afrobeat  27.00  1350\n",
      "2     alt-rock  30.18  1509\n",
      "3  alternative  26.72  1336\n",
      "4      ambient  32.60  1630\n"
     ]
    }
   ],
   "source": [
    "grouped_genre = data1.groupby('genre')['popularity'].agg(['mean', 'sum']).reset_index()\n",
    "print(\"Grouped by genre with aggregate statistics for 'popularity':\")\n",
    "print(grouped_genre.head())"
   ]
  },
  {
   "cell_type": "markdown",
   "id": "7ba3a74b-70a7-49db-b87d-d40692698857",
   "metadata": {},
   "source": [
    "SUMMERY\n"
   ]
  },
  {
   "cell_type": "markdown",
   "id": "b400e36a-1bf1-45f3-b24e-dd92dbb8a5c7",
   "metadata": {},
   "source": [
    "The dataset consists of 6300 tracks with diverse genres (126 unique genres).\n",
    "The popularity of tracks varies widely with a mean of 30.75 and a standard deviation of 19.95.\n",
    "There are 236 tracks with potential outliers in their duration.\n",
    "There is very little correlation between the popularity of a track and its duration_ms.\n",
    "Grouping by genre, the average popularity varies significantly across different genres. \n",
    "For example, ambient tracks have a higher average popularity (32.60) compared to acoustic tracks (26.28).\n"
   ]
  },
  {
   "cell_type": "code",
   "execution_count": null,
   "id": "353a6328-3461-42e6-8ec3-df74a58e692f",
   "metadata": {},
   "outputs": [],
   "source": []
  }
 ],
 "metadata": {
  "kernelspec": {
   "display_name": "Python 3 (ipykernel)",
   "language": "python",
   "name": "python3"
  },
  "language_info": {
   "codemirror_mode": {
    "name": "ipython",
    "version": 3
   },
   "file_extension": ".py",
   "mimetype": "text/x-python",
   "name": "python",
   "nbconvert_exporter": "python",
   "pygments_lexer": "ipython3",
   "version": "3.11.7"
  },
  "widgets": {
   "application/vnd.jupyter.widget-state+json": {
    "state": {},
    "version_major": 2,
    "version_minor": 0
   }
  }
 },
 "nbformat": 4,
 "nbformat_minor": 5
}
